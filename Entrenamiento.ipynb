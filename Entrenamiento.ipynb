{
 "cells": [
  {
   "cell_type": "code",
   "execution_count": 1,
   "id": "f5f158f1",
   "metadata": {},
   "outputs": [],
   "source": [
    "import splitfolders"
   ]
  },
  {
   "cell_type": "code",
   "execution_count": 2,
   "id": "e529c223",
   "metadata": {},
   "outputs": [],
   "source": [
    "# Librerías estándar \n",
    "import numpy as np\n",
    "import pandas as pd\n",
    "import matplotlib.pyplot as plt\n",
    "from numpy import random\n",
    "import pandas as pd\n",
    "import math "
   ]
  },
  {
   "cell_type": "code",
   "execution_count": 3,
   "id": "ed6d06cc",
   "metadata": {
    "tags": []
   },
   "outputs": [],
   "source": [
    "import tensorflow as tf\n",
    "\n",
    "tf.keras.backend.clear_session()\n",
    "\n",
    "# Importar módulos y funciones de TensorFlow\n",
    "from tensorflow.keras.layers import Conv2D,Flatten,Dense,MaxPool2D,BatchNormalization,GlobalAveragePooling2D\n",
    "from tensorflow.keras.applications.resnet50 import preprocess_input,decode_predictions\n",
    "from tensorflow.keras.preprocessing.image import ImageDataGenerator,load_img\n",
    "from tensorflow.keras.applications.resnet50 import ResNet50\n",
    "from tensorflow.keras.preprocessing import image\n",
    "from tensorflow.keras.models import Sequential\n",
    "from tensorflow.keras.models import Model"
   ]
  },
  {
   "cell_type": "code",
   "execution_count": 4,
   "id": "f34da2d2",
   "metadata": {},
   "outputs": [],
   "source": [
    "foto1 = plt.imread('Datos/Imagenes/Bosones_Z/el0.jpg')"
   ]
  },
  {
   "cell_type": "code",
   "execution_count": 5,
   "id": "007e6a75",
   "metadata": {
    "tags": []
   },
   "outputs": [
    {
     "data": {
      "text/plain": [
       "<matplotlib.image.AxesImage at 0x17b16cdd9d0>"
      ]
     },
     "execution_count": 5,
     "metadata": {},
     "output_type": "execute_result"
    },
    {
     "data": {
      "image/png": "[encoded data removed]",
      "text/plain": [
       "<Figure size 640x480 with 1 Axes>"
      ]
     },
     "metadata": {},
     "output_type": "display_data"
    }
   ],
   "source": [
    "plt.imshow(foto1)"
   ]
  },
  {
   "cell_type": "code",
   "execution_count": 6,
   "id": "39372507",
   "metadata": {},
   "outputs": [],
   "source": [
    "splitfolders.ratio(\"Datos/Imagenes\",\"processed_data\", seed=42, ratio=(.6,.2,.2))"
   ]
  },
  {
   "cell_type": "code",
   "execution_count": 7,
   "id": "54562bf1",
   "metadata": {},
   "outputs": [],
   "source": [
    "# Separa memoria\n",
    "img_height,img_width = (224,224)\n",
    "batch_size = 32\n",
    "train_data_dir = \"processed_data/train\"\n",
    "valid_data_dir = \"processed_data/val\"\n",
    "test_data_dir = \"processed_data/test\""
   ]
  },
  {
   "cell_type": "code",
   "execution_count": 8,
   "id": "1a5e489c",
   "metadata": {},
   "outputs": [],
   "source": [
    "train_datagen = ImageDataGenerator(preprocessing_function = preprocess_input,\n",
    "                                  shear_range = 0.2,\n",
    "                                  zoom_range = 0.2,\n",
    "                                  horizontal_flip=True,\n",
    "                                  validation_split=0.4)"
   ]
  },
  {
   "cell_type": "code",
   "execution_count": 9,
   "id": "324d8c0c",
   "metadata": {},
   "outputs": [
    {
     "name": "stdout",
     "output_type": "stream",
     "text": [
      "Found 314 images belonging to 2 classes.\n"
     ]
    }
   ],
   "source": [
    "train_generator = train_datagen.flow_from_directory(\n",
    "    train_data_dir,\n",
    "    target_size = (img_height, img_width),\n",
    "    batch_size = batch_size, \n",
    "    class_mode = 'categorical',\n",
    "    subset ='training') #set as training data"
   ]
  },
  {
   "cell_type": "code",
   "execution_count": 10,
   "id": "6d07f249",
   "metadata": {},
   "outputs": [
    {
     "name": "stdout",
     "output_type": "stream",
     "text": [
      "Found 68 images belonging to 2 classes.\n"
     ]
    }
   ],
   "source": [
    "valid_generator = train_datagen.flow_from_directory(\n",
    "    valid_data_dir, #same directory training data\n",
    "    target_size = (img_height, img_width),\n",
    "    batch_size = batch_size,\n",
    "    class_mode = 'categorical',\n",
    "    subset = 'validation') #set as validation data "
   ]
  },
  {
   "cell_type": "code",
   "execution_count": 11,
   "id": "2df145b8",
   "metadata": {},
   "outputs": [
    {
     "name": "stdout",
     "output_type": "stream",
     "text": [
      "Found 68 images belonging to 2 classes.\n"
     ]
    }
   ],
   "source": [
    "  test_generator = train_datagen.flow_from_directory(\n",
    "    test_data_dir,\n",
    "    target_size = (img_height, img_width),\n",
    "    batch_size = 1,\n",
    "    class_mode = 'categorical',\n",
    "    subset = 'validation') #set as validation data "
   ]
  },
  {
   "cell_type": "code",
   "execution_count": null,
   "id": "d81eafba",
   "metadata": {},
   "outputs": [],
   "source": [
    "base_model = ResNet50(include_top=False, weights='imagenet')\n",
    "x = base_model.output\n",
    "x = GlobalAveragePooling2D()(x)\n",
    "x = Dense(1024, activation='relu')(x)\n",
    "\n",
    "predictions = Dense(train_generator.num_classes,activation='softmax')(x)\n",
    "model = Model(inputs=base_model.input,outputs=predictions)\n",
    "for layer in base_model.layers:\n",
    "    layer.trainable = False  \n",
    "\n",
    "model.compile(optimizer = 'adam', loss = 'categorical_crossentropy', metrics = ['accuracy'])\n",
    "model.fit(train_generator,\n",
    "                       epochs = 10 )"
   ]
  },
  {
   "cell_type": "code",
   "execution_count": null,
   "id": "c39d2e64",
   "metadata": {},
   "outputs": [],
   "source": [
    "model.save('Model/ResNet50_Electrons.h5')"
   ]
  },
  {
   "cell_type": "code",
   "execution_count": null,
   "id": "05f7fd3f",
   "metadata": {},
   "outputs": [],
   "source": [
    "test_loss,test_acc = model.evaluate(test_generator, verbose=2)\n",
    "print('\\nTest accuracy: ', test_acc)"
   ]
  },
  {
   "cell_type": "code",
   "execution_count": null,
   "id": "e258e834",
   "metadata": {},
   "outputs": [],
   "source": [
    "import tensorflow as tf\n",
    "import seaborn as sn\n",
    "model = tf.keras.models.load_model('Model/ResNet50_Electrons.h5')\n",
    "filenames = test_generator.filenames"
   ]
  },
  {
   "cell_type": "code",
   "execution_count": null,
   "id": "04c5c259",
   "metadata": {},
   "outputs": [],
   "source": [
    "nb_samples = len(test_generator)\n",
    "y_prob = []\n",
    "y_act = []\n",
    "test_generator.reset()"
   ]
  },
  {
   "cell_type": "code",
   "execution_count": null,
   "id": "5dc41879",
   "metadata": {},
   "outputs": [],
   "source": [
    "for _ in range(nb_samples):\n",
    "    X_test,Y_test = test_generator.next()\n",
    "    y_prob.append(model.predict(X_test))\n",
    "    y_act.append(Y_test)"
   ]
  },
  {
   "cell_type": "code",
   "execution_count": null,
   "id": "43c8b2d6",
   "metadata": {},
   "outputs": [],
   "source": [
    "predicted_class = [list(train_generator.class_indices.keys())[i.argmax()]for i in y_prob]\n",
    "actual_class = [list(train_generator.class_indices.keys())[i.argmax()]for i in y_act]"
   ]
  },
  {
   "cell_type": "code",
   "execution_count": null,
   "id": "809a4126",
   "metadata": {},
   "outputs": [],
   "source": [
    "out_df = pd.DataFrame(np.vstack([predicted_class,actual_class]).T, columns=['predicted_class','actual_class'])"
   ]
  },
  {
   "cell_type": "code",
   "execution_count": null,
   "id": "7aff65cc",
   "metadata": {},
   "outputs": [],
   "source": [
    "confusion_matrix = pd.crosstab(out_df['actual_class'],out_df['predicted_class'],rownames=['Actual'],colnames=['Predicted'])"
   ]
  },
  {
   "cell_type": "code",
   "execution_count": null,
   "id": "8dc66552",
   "metadata": {},
   "outputs": [],
   "source": [
    "sn.heatmap(confusion_matrix,cmap='Reds',annot=True,fmt='d')\n",
    "plt.show()\n",
    "print('test_accuracy : {}'.format((np.diagonal(confusion_matrix).sum()/confusion_matrix.sum().sum()*100)))"
   ]
  }
 ],
 "metadata": {
  "kernelspec": {
   "display_name": "Python 3 (ipykernel)",
   "language": "python",
   "name": "python3"
  },
  "language_info": {
   "codemirror_mode": {
    "name": "ipython",
    "version": 3
   },
   "file_extension": ".py",
   "mimetype": "text/x-python",
   "name": "python",
   "nbconvert_exporter": "python",
   "pygments_lexer": "ipython3",
   "version": "3.9.16"
  }
 },
 "nbformat": 4,
 "nbformat_minor": 5
}
